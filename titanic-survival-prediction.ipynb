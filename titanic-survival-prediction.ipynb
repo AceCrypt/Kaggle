{
 "cells": [
  {
   "cell_type": "code",
   "execution_count": 1,
   "id": "dd4c449d",
   "metadata": {
    "_cell_guid": "854533be-ac85-44b4-9308-3eba653e0b2d",
    "_uuid": "1ecd9e83-0cb2-4a8b-beec-b8d037f6679a",
    "collapsed": false,
    "execution": {
     "iopub.execute_input": "2023-11-19T22:42:56.103596Z",
     "iopub.status.busy": "2023-11-19T22:42:56.102761Z",
     "iopub.status.idle": "2023-11-19T22:42:57.659690Z",
     "shell.execute_reply": "2023-11-19T22:42:57.658705Z"
    },
    "jupyter": {
     "outputs_hidden": false
    },
    "papermill": {
     "duration": 1.573483,
     "end_time": "2023-11-19T22:42:57.662520",
     "exception": false,
     "start_time": "2023-11-19T22:42:56.089037",
     "status": "completed"
    },
    "tags": []
   },
   "outputs": [],
   "source": [
    "import numpy as np \n",
    "import pandas as pd \n",
    "\n",
    "from sklearn.ensemble import RandomForestClassifier"
   ]
  },
  {
   "cell_type": "code",
   "execution_count": 2,
   "id": "a301d59f",
   "metadata": {
    "_cell_guid": "2add5750-66c9-457e-b374-ea70cfae3805",
    "_uuid": "f24aed4a-b875-44d2-8032-79844925d13d",
    "collapsed": false,
    "execution": {
     "iopub.execute_input": "2023-11-19T22:42:57.678626Z",
     "iopub.status.busy": "2023-11-19T22:42:57.677837Z",
     "iopub.status.idle": "2023-11-19T22:42:57.709162Z",
     "shell.execute_reply": "2023-11-19T22:42:57.707945Z"
    },
    "jupyter": {
     "outputs_hidden": false
    },
    "papermill": {
     "duration": 0.042758,
     "end_time": "2023-11-19T22:42:57.712149",
     "exception": false,
     "start_time": "2023-11-19T22:42:57.669391",
     "status": "completed"
    },
    "tags": []
   },
   "outputs": [],
   "source": [
    "#saving test and train data in Data Frames\n",
    "\n",
    "train = pd.read_csv(\"/kaggle/input/titanic/train.csv\")\n",
    "test = pd.read_csv(\"/kaggle/input/titanic/test.csv\")\n"
   ]
  },
  {
   "cell_type": "code",
   "execution_count": 3,
   "id": "47c873e3",
   "metadata": {
    "execution": {
     "iopub.execute_input": "2023-11-19T22:42:57.728418Z",
     "iopub.status.busy": "2023-11-19T22:42:57.727966Z",
     "iopub.status.idle": "2023-11-19T22:42:57.762973Z",
     "shell.execute_reply": "2023-11-19T22:42:57.761582Z"
    },
    "papermill": {
     "duration": 0.046916,
     "end_time": "2023-11-19T22:42:57.766258",
     "exception": false,
     "start_time": "2023-11-19T22:42:57.719342",
     "status": "completed"
    },
    "tags": []
   },
   "outputs": [
    {
     "data": {
      "text/html": [
       "<div>\n",
       "<style scoped>\n",
       "    .dataframe tbody tr th:only-of-type {\n",
       "        vertical-align: middle;\n",
       "    }\n",
       "\n",
       "    .dataframe tbody tr th {\n",
       "        vertical-align: top;\n",
       "    }\n",
       "\n",
       "    .dataframe thead th {\n",
       "        text-align: right;\n",
       "    }\n",
       "</style>\n",
       "<table border=\"1\" class=\"dataframe\">\n",
       "  <thead>\n",
       "    <tr style=\"text-align: right;\">\n",
       "      <th></th>\n",
       "      <th>PassengerId</th>\n",
       "      <th>Survived</th>\n",
       "      <th>Pclass</th>\n",
       "      <th>Name</th>\n",
       "      <th>Sex</th>\n",
       "      <th>Age</th>\n",
       "      <th>SibSp</th>\n",
       "      <th>Parch</th>\n",
       "      <th>Ticket</th>\n",
       "      <th>Fare</th>\n",
       "      <th>Cabin</th>\n",
       "      <th>Embarked</th>\n",
       "    </tr>\n",
       "  </thead>\n",
       "  <tbody>\n",
       "    <tr>\n",
       "      <th>0</th>\n",
       "      <td>1</td>\n",
       "      <td>0</td>\n",
       "      <td>3</td>\n",
       "      <td>Braund, Mr. Owen Harris</td>\n",
       "      <td>male</td>\n",
       "      <td>22.0</td>\n",
       "      <td>1</td>\n",
       "      <td>0</td>\n",
       "      <td>A/5 21171</td>\n",
       "      <td>7.2500</td>\n",
       "      <td>NaN</td>\n",
       "      <td>S</td>\n",
       "    </tr>\n",
       "    <tr>\n",
       "      <th>1</th>\n",
       "      <td>2</td>\n",
       "      <td>1</td>\n",
       "      <td>1</td>\n",
       "      <td>Cumings, Mrs. John Bradley (Florence Briggs Th...</td>\n",
       "      <td>female</td>\n",
       "      <td>38.0</td>\n",
       "      <td>1</td>\n",
       "      <td>0</td>\n",
       "      <td>PC 17599</td>\n",
       "      <td>71.2833</td>\n",
       "      <td>C85</td>\n",
       "      <td>C</td>\n",
       "    </tr>\n",
       "    <tr>\n",
       "      <th>2</th>\n",
       "      <td>3</td>\n",
       "      <td>1</td>\n",
       "      <td>3</td>\n",
       "      <td>Heikkinen, Miss. Laina</td>\n",
       "      <td>female</td>\n",
       "      <td>26.0</td>\n",
       "      <td>0</td>\n",
       "      <td>0</td>\n",
       "      <td>STON/O2. 3101282</td>\n",
       "      <td>7.9250</td>\n",
       "      <td>NaN</td>\n",
       "      <td>S</td>\n",
       "    </tr>\n",
       "    <tr>\n",
       "      <th>3</th>\n",
       "      <td>4</td>\n",
       "      <td>1</td>\n",
       "      <td>1</td>\n",
       "      <td>Futrelle, Mrs. Jacques Heath (Lily May Peel)</td>\n",
       "      <td>female</td>\n",
       "      <td>35.0</td>\n",
       "      <td>1</td>\n",
       "      <td>0</td>\n",
       "      <td>113803</td>\n",
       "      <td>53.1000</td>\n",
       "      <td>C123</td>\n",
       "      <td>S</td>\n",
       "    </tr>\n",
       "    <tr>\n",
       "      <th>4</th>\n",
       "      <td>5</td>\n",
       "      <td>0</td>\n",
       "      <td>3</td>\n",
       "      <td>Allen, Mr. William Henry</td>\n",
       "      <td>male</td>\n",
       "      <td>35.0</td>\n",
       "      <td>0</td>\n",
       "      <td>0</td>\n",
       "      <td>373450</td>\n",
       "      <td>8.0500</td>\n",
       "      <td>NaN</td>\n",
       "      <td>S</td>\n",
       "    </tr>\n",
       "  </tbody>\n",
       "</table>\n",
       "</div>"
      ],
      "text/plain": [
       "   PassengerId  Survived  Pclass  \\\n",
       "0            1         0       3   \n",
       "1            2         1       1   \n",
       "2            3         1       3   \n",
       "3            4         1       1   \n",
       "4            5         0       3   \n",
       "\n",
       "                                                Name     Sex   Age  SibSp  \\\n",
       "0                            Braund, Mr. Owen Harris    male  22.0      1   \n",
       "1  Cumings, Mrs. John Bradley (Florence Briggs Th...  female  38.0      1   \n",
       "2                             Heikkinen, Miss. Laina  female  26.0      0   \n",
       "3       Futrelle, Mrs. Jacques Heath (Lily May Peel)  female  35.0      1   \n",
       "4                           Allen, Mr. William Henry    male  35.0      0   \n",
       "\n",
       "   Parch            Ticket     Fare Cabin Embarked  \n",
       "0      0         A/5 21171   7.2500   NaN        S  \n",
       "1      0          PC 17599  71.2833   C85        C  \n",
       "2      0  STON/O2. 3101282   7.9250   NaN        S  \n",
       "3      0            113803  53.1000  C123        S  \n",
       "4      0            373450   8.0500   NaN        S  "
      ]
     },
     "execution_count": 3,
     "metadata": {},
     "output_type": "execute_result"
    }
   ],
   "source": [
    "train.head()"
   ]
  },
  {
   "cell_type": "code",
   "execution_count": 4,
   "id": "6bcfe99f",
   "metadata": {
    "execution": {
     "iopub.execute_input": "2023-11-19T22:42:57.784089Z",
     "iopub.status.busy": "2023-11-19T22:42:57.783649Z",
     "iopub.status.idle": "2023-11-19T22:42:57.792795Z",
     "shell.execute_reply": "2023-11-19T22:42:57.791548Z"
    },
    "papermill": {
     "duration": 0.020865,
     "end_time": "2023-11-19T22:42:57.795356",
     "exception": false,
     "start_time": "2023-11-19T22:42:57.774491",
     "status": "completed"
    },
    "tags": []
   },
   "outputs": [
    {
     "data": {
      "text/plain": [
       "PassengerId      int64\n",
       "Survived         int64\n",
       "Pclass           int64\n",
       "Name            object\n",
       "Sex             object\n",
       "Age            float64\n",
       "SibSp            int64\n",
       "Parch            int64\n",
       "Ticket          object\n",
       "Fare           float64\n",
       "Cabin           object\n",
       "Embarked        object\n",
       "dtype: object"
      ]
     },
     "execution_count": 4,
     "metadata": {},
     "output_type": "execute_result"
    }
   ],
   "source": [
    "train.dtypes"
   ]
  },
  {
   "cell_type": "code",
   "execution_count": 5,
   "id": "714361bf",
   "metadata": {
    "_cell_guid": "60de14cb-c998-48d1-b89c-4b40d0c25ab8",
    "_uuid": "f1e5b1ef-8e7f-4876-b01f-4db5ad7f9686",
    "collapsed": false,
    "execution": {
     "iopub.execute_input": "2023-11-19T22:42:57.812930Z",
     "iopub.status.busy": "2023-11-19T22:42:57.812068Z",
     "iopub.status.idle": "2023-11-19T22:42:57.821729Z",
     "shell.execute_reply": "2023-11-19T22:42:57.820921Z"
    },
    "jupyter": {
     "outputs_hidden": false
    },
    "papermill": {
     "duration": 0.02145,
     "end_time": "2023-11-19T22:42:57.824394",
     "exception": false,
     "start_time": "2023-11-19T22:42:57.802944",
     "status": "completed"
    },
    "tags": []
   },
   "outputs": [
    {
     "data": {
      "text/plain": [
       "PassengerId      0\n",
       "Survived         0\n",
       "Pclass           0\n",
       "Name             0\n",
       "Sex              0\n",
       "Age            177\n",
       "SibSp            0\n",
       "Parch            0\n",
       "Ticket           0\n",
       "Fare             0\n",
       "Cabin          687\n",
       "Embarked         2\n",
       "dtype: int64"
      ]
     },
     "execution_count": 5,
     "metadata": {},
     "output_type": "execute_result"
    }
   ],
   "source": [
    "train.isnull().sum()"
   ]
  },
  {
   "cell_type": "code",
   "execution_count": 6,
   "id": "f0a337f3",
   "metadata": {
    "_cell_guid": "d51060f6-25f2-4981-bf22-7e8f672d8bb2",
    "_uuid": "5c075829-e1b4-4a1c-8eef-34e47f4b03ca",
    "collapsed": false,
    "execution": {
     "iopub.execute_input": "2023-11-19T22:42:57.843792Z",
     "iopub.status.busy": "2023-11-19T22:42:57.842937Z",
     "iopub.status.idle": "2023-11-19T22:42:57.859511Z",
     "shell.execute_reply": "2023-11-19T22:42:57.858322Z"
    },
    "jupyter": {
     "outputs_hidden": false
    },
    "papermill": {
     "duration": 0.029105,
     "end_time": "2023-11-19T22:42:57.862121",
     "exception": false,
     "start_time": "2023-11-19T22:42:57.833016",
     "status": "completed"
    },
    "tags": []
   },
   "outputs": [
    {
     "data": {
      "text/plain": [
       "PassengerId     0.00\n",
       "Survived        0.00\n",
       "Pclass          0.00\n",
       "Name            0.00\n",
       "Sex             0.00\n",
       "Age            19.87\n",
       "SibSp           0.00\n",
       "Parch           0.00\n",
       "Ticket          0.00\n",
       "Fare            0.00\n",
       "Cabin          77.10\n",
       "Embarked        0.22\n",
       "dtype: float64"
      ]
     },
     "execution_count": 6,
     "metadata": {},
     "output_type": "execute_result"
    }
   ],
   "source": [
    "((train.isnull().sum()/train.isnull().count())*100).round(2)"
   ]
  },
  {
   "cell_type": "code",
   "execution_count": 7,
   "id": "7a4b832f",
   "metadata": {
    "_cell_guid": "6599ea01-a917-4812-8698-f0ca9b8aa817",
    "_uuid": "9ca7a20a-a80f-4563-9e0b-8458bce92a46",
    "collapsed": false,
    "execution": {
     "iopub.execute_input": "2023-11-19T22:42:57.879533Z",
     "iopub.status.busy": "2023-11-19T22:42:57.879068Z",
     "iopub.status.idle": "2023-11-19T22:42:57.884168Z",
     "shell.execute_reply": "2023-11-19T22:42:57.883345Z"
    },
    "jupyter": {
     "outputs_hidden": false
    },
    "papermill": {
     "duration": 0.016662,
     "end_time": "2023-11-19T22:42:57.886586",
     "exception": false,
     "start_time": "2023-11-19T22:42:57.869924",
     "status": "completed"
    },
    "tags": []
   },
   "outputs": [],
   "source": [
    "features = [\"PassengerId\",\"Pclass\",\"Age\",\"SibSp\",\"Parch\",\"Fare\"]"
   ]
  },
  {
   "cell_type": "code",
   "execution_count": 8,
   "id": "1dc5b974",
   "metadata": {
    "execution": {
     "iopub.execute_input": "2023-11-19T22:42:57.904342Z",
     "iopub.status.busy": "2023-11-19T22:42:57.903160Z",
     "iopub.status.idle": "2023-11-19T22:42:57.919702Z",
     "shell.execute_reply": "2023-11-19T22:42:57.918637Z"
    },
    "papermill": {
     "duration": 0.027936,
     "end_time": "2023-11-19T22:42:57.922202",
     "exception": false,
     "start_time": "2023-11-19T22:42:57.894266",
     "status": "completed"
    },
    "tags": []
   },
   "outputs": [
    {
     "data": {
      "text/plain": [
       "PassengerId      0\n",
       "Pclass           0\n",
       "Age            177\n",
       "SibSp            0\n",
       "Parch            0\n",
       "Fare             0\n",
       "dtype: int64"
      ]
     },
     "execution_count": 8,
     "metadata": {},
     "output_type": "execute_result"
    }
   ],
   "source": [
    "train[features].isnull().sum()"
   ]
  },
  {
   "cell_type": "code",
   "execution_count": 9,
   "id": "6e450fb0",
   "metadata": {
    "execution": {
     "iopub.execute_input": "2023-11-19T22:42:57.941461Z",
     "iopub.status.busy": "2023-11-19T22:42:57.940056Z",
     "iopub.status.idle": "2023-11-19T22:42:57.947931Z",
     "shell.execute_reply": "2023-11-19T22:42:57.947188Z"
    },
    "papermill": {
     "duration": 0.020444,
     "end_time": "2023-11-19T22:42:57.950706",
     "exception": false,
     "start_time": "2023-11-19T22:42:57.930262",
     "status": "completed"
    },
    "tags": []
   },
   "outputs": [],
   "source": [
    "train = train.dropna(subset=['Age'])"
   ]
  },
  {
   "cell_type": "code",
   "execution_count": 10,
   "id": "945dbcfd",
   "metadata": {
    "execution": {
     "iopub.execute_input": "2023-11-19T22:42:57.969138Z",
     "iopub.status.busy": "2023-11-19T22:42:57.968533Z",
     "iopub.status.idle": "2023-11-19T22:42:57.977526Z",
     "shell.execute_reply": "2023-11-19T22:42:57.976664Z"
    },
    "papermill": {
     "duration": 0.020871,
     "end_time": "2023-11-19T22:42:57.979747",
     "exception": false,
     "start_time": "2023-11-19T22:42:57.958876",
     "status": "completed"
    },
    "tags": []
   },
   "outputs": [
    {
     "data": {
      "text/plain": [
       "PassengerId     0\n",
       "Pclass          0\n",
       "Age            86\n",
       "SibSp           0\n",
       "Parch           0\n",
       "Fare            1\n",
       "dtype: int64"
      ]
     },
     "execution_count": 10,
     "metadata": {},
     "output_type": "execute_result"
    }
   ],
   "source": [
    "test[features].isnull().sum()"
   ]
  },
  {
   "cell_type": "code",
   "execution_count": 11,
   "id": "51de67b6",
   "metadata": {
    "execution": {
     "iopub.execute_input": "2023-11-19T22:42:57.998470Z",
     "iopub.status.busy": "2023-11-19T22:42:57.997727Z",
     "iopub.status.idle": "2023-11-19T22:42:58.008884Z",
     "shell.execute_reply": "2023-11-19T22:42:58.008010Z"
    },
    "papermill": {
     "duration": 0.023638,
     "end_time": "2023-11-19T22:42:58.011615",
     "exception": false,
     "start_time": "2023-11-19T22:42:57.987977",
     "status": "completed"
    },
    "tags": []
   },
   "outputs": [],
   "source": [
    "test['Age'].fillna((test['Age'].mean()),inplace=True)\n",
    "test['Fare'].fillna((test['Fare'].median()),inplace=True)\n"
   ]
  },
  {
   "cell_type": "code",
   "execution_count": 12,
   "id": "e434f190",
   "metadata": {
    "_cell_guid": "d7f14abb-316d-4821-b07b-2eb5c565fea4",
    "_uuid": "6be0e872-6f14-401c-8602-1d1b546eb275",
    "collapsed": false,
    "execution": {
     "iopub.execute_input": "2023-11-19T22:42:58.030249Z",
     "iopub.status.busy": "2023-11-19T22:42:58.029564Z",
     "iopub.status.idle": "2023-11-19T22:42:58.036308Z",
     "shell.execute_reply": "2023-11-19T22:42:58.035412Z"
    },
    "jupyter": {
     "outputs_hidden": false
    },
    "papermill": {
     "duration": 0.019153,
     "end_time": "2023-11-19T22:42:58.039073",
     "exception": false,
     "start_time": "2023-11-19T22:42:58.019920",
     "status": "completed"
    },
    "tags": []
   },
   "outputs": [],
   "source": [
    "X_train = train[features]\n",
    "X_test = test[features]\n",
    "y_train = train[\"Survived\"]"
   ]
  },
  {
   "cell_type": "code",
   "execution_count": 13,
   "id": "b2b88c73",
   "metadata": {
    "execution": {
     "iopub.execute_input": "2023-11-19T22:42:58.058178Z",
     "iopub.status.busy": "2023-11-19T22:42:58.057432Z",
     "iopub.status.idle": "2023-11-19T22:42:58.063633Z",
     "shell.execute_reply": "2023-11-19T22:42:58.062893Z"
    },
    "papermill": {
     "duration": 0.018504,
     "end_time": "2023-11-19T22:42:58.065989",
     "exception": false,
     "start_time": "2023-11-19T22:42:58.047485",
     "status": "completed"
    },
    "tags": []
   },
   "outputs": [
    {
     "data": {
      "text/plain": [
       "Index(['PassengerId', 'Pclass', 'Age', 'SibSp', 'Parch', 'Fare'], dtype='object')"
      ]
     },
     "execution_count": 13,
     "metadata": {},
     "output_type": "execute_result"
    }
   ],
   "source": [
    "X_test.columns"
   ]
  },
  {
   "cell_type": "code",
   "execution_count": 14,
   "id": "a913bd06",
   "metadata": {
    "execution": {
     "iopub.execute_input": "2023-11-19T22:42:58.084732Z",
     "iopub.status.busy": "2023-11-19T22:42:58.084211Z",
     "iopub.status.idle": "2023-11-19T22:42:58.356939Z",
     "shell.execute_reply": "2023-11-19T22:42:58.356186Z"
    },
    "papermill": {
     "duration": 0.285106,
     "end_time": "2023-11-19T22:42:58.359454",
     "exception": false,
     "start_time": "2023-11-19T22:42:58.074348",
     "status": "completed"
    },
    "tags": []
   },
   "outputs": [
    {
     "data": {
      "text/plain": [
       "RandomForestClassifier(random_state=1)"
      ]
     },
     "execution_count": 14,
     "metadata": {},
     "output_type": "execute_result"
    }
   ],
   "source": [
    "model = RandomForestClassifier(random_state=1)\n",
    "model.fit(X_train, y_train)"
   ]
  },
  {
   "cell_type": "code",
   "execution_count": 15,
   "id": "7917f7da",
   "metadata": {
    "execution": {
     "iopub.execute_input": "2023-11-19T22:42:58.379205Z",
     "iopub.status.busy": "2023-11-19T22:42:58.378358Z",
     "iopub.status.idle": "2023-11-19T22:42:59.550369Z",
     "shell.execute_reply": "2023-11-19T22:42:59.549103Z"
    },
    "papermill": {
     "duration": 1.184987,
     "end_time": "2023-11-19T22:42:59.553420",
     "exception": false,
     "start_time": "2023-11-19T22:42:58.368433",
     "status": "completed"
    },
    "tags": []
   },
   "outputs": [
    {
     "name": "stdout",
     "output_type": "stream",
     "text": [
      "Submission exported to /kaggle/working/submission.csv\n",
      "PassengerId,Survived\r\n",
      "892,0\r\n",
      "893,0\r\n",
      "894,0\r\n",
      "895,0\r\n",
      "896,1\r\n",
      "897,1\r\n",
      "898,0\r\n",
      "899,1\r\n",
      "900,1\r\n"
     ]
    }
   ],
   "source": [
    "def prediction_to_kaggle_format(model):\n",
    "    proba_survive = model.predict(X_test)\n",
    "    return pd.DataFrame({\n",
    "        \"PassengerId\": X_test[\"PassengerId\"],\n",
    "        \"Survived\": (proba_survive).astype(int)\n",
    "    })\n",
    "\n",
    "def make_submission(kaggle_predictions):\n",
    "    path=\"/kaggle/working/submission.csv\"\n",
    "    kaggle_predictions.to_csv(path, index=False)\n",
    "    print(f\"Submission exported to {path}\")\n",
    "    \n",
    "kaggle_predictions = prediction_to_kaggle_format(model)\n",
    "make_submission(kaggle_predictions)\n",
    "!head /kaggle/working/submission.csv"
   ]
  },
  {
   "cell_type": "markdown",
   "id": "b3660388",
   "metadata": {
    "_cell_guid": "67520e6b-2aba-4a84-a245-c81d68321eda",
    "_uuid": "82151300-6ca9-4d5c-8e67-7bd8b4e41e82",
    "papermill": {
     "duration": 0.008792,
     "end_time": "2023-11-19T22:42:59.570951",
     "exception": false,
     "start_time": "2023-11-19T22:42:59.562159",
     "status": "completed"
    },
    "tags": []
   },
   "source": []
  }
 ],
 "metadata": {
  "kaggle": {
   "accelerator": "none",
   "dataSources": [
    {
     "databundleVersionId": 26502,
     "sourceId": 3136,
     "sourceType": "competition"
    }
   ],
   "dockerImageVersionId": 30197,
   "isGpuEnabled": false,
   "isInternetEnabled": true,
   "language": "python",
   "sourceType": "notebook"
  },
  "kernelspec": {
   "display_name": "Python 3",
   "language": "python",
   "name": "python3"
  },
  "language_info": {
   "codemirror_mode": {
    "name": "ipython",
    "version": 3
   },
   "file_extension": ".py",
   "mimetype": "text/x-python",
   "name": "python",
   "nbconvert_exporter": "python",
   "pygments_lexer": "ipython3",
   "version": "3.7.12"
  },
  "papermill": {
   "default_parameters": {},
   "duration": 17.448072,
   "end_time": "2023-11-19T22:43:00.506823",
   "environment_variables": {},
   "exception": null,
   "input_path": "__notebook__.ipynb",
   "output_path": "__notebook__.ipynb",
   "parameters": {},
   "start_time": "2023-11-19T22:42:43.058751",
   "version": "2.3.4"
  }
 },
 "nbformat": 4,
 "nbformat_minor": 5
}
