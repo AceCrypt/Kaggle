{
 "cells": [
  {
   "cell_type": "code",
   "execution_count": 1,
   "id": "d627f0d1",
   "metadata": {
    "_cell_guid": "854533be-ac85-44b4-9308-3eba653e0b2d",
    "_uuid": "1ecd9e83-0cb2-4a8b-beec-b8d037f6679a",
    "collapsed": false,
    "execution": {
     "iopub.execute_input": "2023-11-19T22:33:38.397191Z",
     "iopub.status.busy": "2023-11-19T22:33:38.396516Z",
     "iopub.status.idle": "2023-11-19T22:33:39.764480Z",
     "shell.execute_reply": "2023-11-19T22:33:39.763366Z"
    },
    "jupyter": {
     "outputs_hidden": false
    },
    "papermill": {
     "duration": 1.383201,
     "end_time": "2023-11-19T22:33:39.767706",
     "exception": false,
     "start_time": "2023-11-19T22:33:38.384505",
     "status": "completed"
    },
    "tags": []
   },
   "outputs": [],
   "source": [
    "import numpy as np \n",
    "import pandas as pd \n",
    "\n",
    "from sklearn.ensemble import RandomForestRegressor"
   ]
  },
  {
   "cell_type": "code",
   "execution_count": 2,
   "id": "a12ef82f",
   "metadata": {
    "_cell_guid": "2add5750-66c9-457e-b374-ea70cfae3805",
    "_uuid": "f24aed4a-b875-44d2-8032-79844925d13d",
    "collapsed": false,
    "execution": {
     "iopub.execute_input": "2023-11-19T22:33:39.782689Z",
     "iopub.status.busy": "2023-11-19T22:33:39.782248Z",
     "iopub.status.idle": "2023-11-19T22:33:39.816112Z",
     "shell.execute_reply": "2023-11-19T22:33:39.815264Z"
    },
    "jupyter": {
     "outputs_hidden": false
    },
    "papermill": {
     "duration": 0.044136,
     "end_time": "2023-11-19T22:33:39.818633",
     "exception": false,
     "start_time": "2023-11-19T22:33:39.774497",
     "status": "completed"
    },
    "tags": []
   },
   "outputs": [],
   "source": [
    "#saving test and train data in Data Frames\n",
    "\n",
    "train = pd.read_csv(\"/kaggle/input/titanic/train.csv\")\n",
    "test = pd.read_csv(\"/kaggle/input/titanic/test.csv\")\n"
   ]
  },
  {
   "cell_type": "code",
   "execution_count": 3,
   "id": "0eb53eb0",
   "metadata": {
    "execution": {
     "iopub.execute_input": "2023-11-19T22:33:39.833844Z",
     "iopub.status.busy": "2023-11-19T22:33:39.833436Z",
     "iopub.status.idle": "2023-11-19T22:33:39.860437Z",
     "shell.execute_reply": "2023-11-19T22:33:39.859477Z"
    },
    "papermill": {
     "duration": 0.038668,
     "end_time": "2023-11-19T22:33:39.864078",
     "exception": false,
     "start_time": "2023-11-19T22:33:39.825410",
     "status": "completed"
    },
    "tags": []
   },
   "outputs": [
    {
     "data": {
      "text/html": [
       "<div>\n",
       "<style scoped>\n",
       "    .dataframe tbody tr th:only-of-type {\n",
       "        vertical-align: middle;\n",
       "    }\n",
       "\n",
       "    .dataframe tbody tr th {\n",
       "        vertical-align: top;\n",
       "    }\n",
       "\n",
       "    .dataframe thead th {\n",
       "        text-align: right;\n",
       "    }\n",
       "</style>\n",
       "<table border=\"1\" class=\"dataframe\">\n",
       "  <thead>\n",
       "    <tr style=\"text-align: right;\">\n",
       "      <th></th>\n",
       "      <th>PassengerId</th>\n",
       "      <th>Survived</th>\n",
       "      <th>Pclass</th>\n",
       "      <th>Name</th>\n",
       "      <th>Sex</th>\n",
       "      <th>Age</th>\n",
       "      <th>SibSp</th>\n",
       "      <th>Parch</th>\n",
       "      <th>Ticket</th>\n",
       "      <th>Fare</th>\n",
       "      <th>Cabin</th>\n",
       "      <th>Embarked</th>\n",
       "    </tr>\n",
       "  </thead>\n",
       "  <tbody>\n",
       "    <tr>\n",
       "      <th>0</th>\n",
       "      <td>1</td>\n",
       "      <td>0</td>\n",
       "      <td>3</td>\n",
       "      <td>Braund, Mr. Owen Harris</td>\n",
       "      <td>male</td>\n",
       "      <td>22.0</td>\n",
       "      <td>1</td>\n",
       "      <td>0</td>\n",
       "      <td>A/5 21171</td>\n",
       "      <td>7.2500</td>\n",
       "      <td>NaN</td>\n",
       "      <td>S</td>\n",
       "    </tr>\n",
       "    <tr>\n",
       "      <th>1</th>\n",
       "      <td>2</td>\n",
       "      <td>1</td>\n",
       "      <td>1</td>\n",
       "      <td>Cumings, Mrs. John Bradley (Florence Briggs Th...</td>\n",
       "      <td>female</td>\n",
       "      <td>38.0</td>\n",
       "      <td>1</td>\n",
       "      <td>0</td>\n",
       "      <td>PC 17599</td>\n",
       "      <td>71.2833</td>\n",
       "      <td>C85</td>\n",
       "      <td>C</td>\n",
       "    </tr>\n",
       "    <tr>\n",
       "      <th>2</th>\n",
       "      <td>3</td>\n",
       "      <td>1</td>\n",
       "      <td>3</td>\n",
       "      <td>Heikkinen, Miss. Laina</td>\n",
       "      <td>female</td>\n",
       "      <td>26.0</td>\n",
       "      <td>0</td>\n",
       "      <td>0</td>\n",
       "      <td>STON/O2. 3101282</td>\n",
       "      <td>7.9250</td>\n",
       "      <td>NaN</td>\n",
       "      <td>S</td>\n",
       "    </tr>\n",
       "    <tr>\n",
       "      <th>3</th>\n",
       "      <td>4</td>\n",
       "      <td>1</td>\n",
       "      <td>1</td>\n",
       "      <td>Futrelle, Mrs. Jacques Heath (Lily May Peel)</td>\n",
       "      <td>female</td>\n",
       "      <td>35.0</td>\n",
       "      <td>1</td>\n",
       "      <td>0</td>\n",
       "      <td>113803</td>\n",
       "      <td>53.1000</td>\n",
       "      <td>C123</td>\n",
       "      <td>S</td>\n",
       "    </tr>\n",
       "    <tr>\n",
       "      <th>4</th>\n",
       "      <td>5</td>\n",
       "      <td>0</td>\n",
       "      <td>3</td>\n",
       "      <td>Allen, Mr. William Henry</td>\n",
       "      <td>male</td>\n",
       "      <td>35.0</td>\n",
       "      <td>0</td>\n",
       "      <td>0</td>\n",
       "      <td>373450</td>\n",
       "      <td>8.0500</td>\n",
       "      <td>NaN</td>\n",
       "      <td>S</td>\n",
       "    </tr>\n",
       "  </tbody>\n",
       "</table>\n",
       "</div>"
      ],
      "text/plain": [
       "   PassengerId  Survived  Pclass  \\\n",
       "0            1         0       3   \n",
       "1            2         1       1   \n",
       "2            3         1       3   \n",
       "3            4         1       1   \n",
       "4            5         0       3   \n",
       "\n",
       "                                                Name     Sex   Age  SibSp  \\\n",
       "0                            Braund, Mr. Owen Harris    male  22.0      1   \n",
       "1  Cumings, Mrs. John Bradley (Florence Briggs Th...  female  38.0      1   \n",
       "2                             Heikkinen, Miss. Laina  female  26.0      0   \n",
       "3       Futrelle, Mrs. Jacques Heath (Lily May Peel)  female  35.0      1   \n",
       "4                           Allen, Mr. William Henry    male  35.0      0   \n",
       "\n",
       "   Parch            Ticket     Fare Cabin Embarked  \n",
       "0      0         A/5 21171   7.2500   NaN        S  \n",
       "1      0          PC 17599  71.2833   C85        C  \n",
       "2      0  STON/O2. 3101282   7.9250   NaN        S  \n",
       "3      0            113803  53.1000  C123        S  \n",
       "4      0            373450   8.0500   NaN        S  "
      ]
     },
     "execution_count": 3,
     "metadata": {},
     "output_type": "execute_result"
    }
   ],
   "source": [
    "train.head()"
   ]
  },
  {
   "cell_type": "code",
   "execution_count": 4,
   "id": "bf3705ec",
   "metadata": {
    "execution": {
     "iopub.execute_input": "2023-11-19T22:33:39.879660Z",
     "iopub.status.busy": "2023-11-19T22:33:39.879241Z",
     "iopub.status.idle": "2023-11-19T22:33:39.887893Z",
     "shell.execute_reply": "2023-11-19T22:33:39.886864Z"
    },
    "papermill": {
     "duration": 0.019083,
     "end_time": "2023-11-19T22:33:39.890071",
     "exception": false,
     "start_time": "2023-11-19T22:33:39.870988",
     "status": "completed"
    },
    "tags": []
   },
   "outputs": [
    {
     "data": {
      "text/plain": [
       "PassengerId      int64\n",
       "Survived         int64\n",
       "Pclass           int64\n",
       "Name            object\n",
       "Sex             object\n",
       "Age            float64\n",
       "SibSp            int64\n",
       "Parch            int64\n",
       "Ticket          object\n",
       "Fare           float64\n",
       "Cabin           object\n",
       "Embarked        object\n",
       "dtype: object"
      ]
     },
     "execution_count": 4,
     "metadata": {},
     "output_type": "execute_result"
    }
   ],
   "source": [
    "train.dtypes"
   ]
  },
  {
   "cell_type": "code",
   "execution_count": 5,
   "id": "40229c41",
   "metadata": {
    "_cell_guid": "60de14cb-c998-48d1-b89c-4b40d0c25ab8",
    "_uuid": "f1e5b1ef-8e7f-4876-b01f-4db5ad7f9686",
    "collapsed": false,
    "execution": {
     "iopub.execute_input": "2023-11-19T22:33:39.906504Z",
     "iopub.status.busy": "2023-11-19T22:33:39.905469Z",
     "iopub.status.idle": "2023-11-19T22:33:39.915483Z",
     "shell.execute_reply": "2023-11-19T22:33:39.914600Z"
    },
    "jupyter": {
     "outputs_hidden": false
    },
    "papermill": {
     "duration": 0.020223,
     "end_time": "2023-11-19T22:33:39.917480",
     "exception": false,
     "start_time": "2023-11-19T22:33:39.897257",
     "status": "completed"
    },
    "tags": []
   },
   "outputs": [
    {
     "data": {
      "text/plain": [
       "PassengerId      0\n",
       "Survived         0\n",
       "Pclass           0\n",
       "Name             0\n",
       "Sex              0\n",
       "Age            177\n",
       "SibSp            0\n",
       "Parch            0\n",
       "Ticket           0\n",
       "Fare             0\n",
       "Cabin          687\n",
       "Embarked         2\n",
       "dtype: int64"
      ]
     },
     "execution_count": 5,
     "metadata": {},
     "output_type": "execute_result"
    }
   ],
   "source": [
    "train.isnull().sum()"
   ]
  },
  {
   "cell_type": "code",
   "execution_count": 6,
   "id": "91a71dba",
   "metadata": {
    "_cell_guid": "d51060f6-25f2-4981-bf22-7e8f672d8bb2",
    "_uuid": "5c075829-e1b4-4a1c-8eef-34e47f4b03ca",
    "collapsed": false,
    "execution": {
     "iopub.execute_input": "2023-11-19T22:33:39.934022Z",
     "iopub.status.busy": "2023-11-19T22:33:39.933101Z",
     "iopub.status.idle": "2023-11-19T22:33:39.949326Z",
     "shell.execute_reply": "2023-11-19T22:33:39.948402Z"
    },
    "jupyter": {
     "outputs_hidden": false
    },
    "papermill": {
     "duration": 0.026927,
     "end_time": "2023-11-19T22:33:39.951596",
     "exception": false,
     "start_time": "2023-11-19T22:33:39.924669",
     "status": "completed"
    },
    "tags": []
   },
   "outputs": [
    {
     "data": {
      "text/plain": [
       "PassengerId     0.00\n",
       "Survived        0.00\n",
       "Pclass          0.00\n",
       "Name            0.00\n",
       "Sex             0.00\n",
       "Age            19.87\n",
       "SibSp           0.00\n",
       "Parch           0.00\n",
       "Ticket          0.00\n",
       "Fare            0.00\n",
       "Cabin          77.10\n",
       "Embarked        0.22\n",
       "dtype: float64"
      ]
     },
     "execution_count": 6,
     "metadata": {},
     "output_type": "execute_result"
    }
   ],
   "source": [
    "((train.isnull().sum()/train.isnull().count())*100).round(2)"
   ]
  },
  {
   "cell_type": "code",
   "execution_count": 7,
   "id": "e27cee95",
   "metadata": {
    "_cell_guid": "6599ea01-a917-4812-8698-f0ca9b8aa817",
    "_uuid": "9ca7a20a-a80f-4563-9e0b-8458bce92a46",
    "collapsed": false,
    "execution": {
     "iopub.execute_input": "2023-11-19T22:33:39.968273Z",
     "iopub.status.busy": "2023-11-19T22:33:39.967817Z",
     "iopub.status.idle": "2023-11-19T22:33:39.972399Z",
     "shell.execute_reply": "2023-11-19T22:33:39.971457Z"
    },
    "jupyter": {
     "outputs_hidden": false
    },
    "papermill": {
     "duration": 0.015571,
     "end_time": "2023-11-19T22:33:39.974594",
     "exception": false,
     "start_time": "2023-11-19T22:33:39.959023",
     "status": "completed"
    },
    "tags": []
   },
   "outputs": [],
   "source": [
    "features = [\"PassengerId\",\"Pclass\",\"Age\",\"SibSp\",\"Parch\",\"Fare\"]"
   ]
  },
  {
   "cell_type": "code",
   "execution_count": 8,
   "id": "0cfd9b3c",
   "metadata": {
    "execution": {
     "iopub.execute_input": "2023-11-19T22:33:39.991371Z",
     "iopub.status.busy": "2023-11-19T22:33:39.990663Z",
     "iopub.status.idle": "2023-11-19T22:33:40.005515Z",
     "shell.execute_reply": "2023-11-19T22:33:40.004532Z"
    },
    "papermill": {
     "duration": 0.02571,
     "end_time": "2023-11-19T22:33:40.007704",
     "exception": false,
     "start_time": "2023-11-19T22:33:39.981994",
     "status": "completed"
    },
    "tags": []
   },
   "outputs": [
    {
     "data": {
      "text/plain": [
       "PassengerId      0\n",
       "Pclass           0\n",
       "Age            177\n",
       "SibSp            0\n",
       "Parch            0\n",
       "Fare             0\n",
       "dtype: int64"
      ]
     },
     "execution_count": 8,
     "metadata": {},
     "output_type": "execute_result"
    }
   ],
   "source": [
    "train[features].isnull().sum()"
   ]
  },
  {
   "cell_type": "code",
   "execution_count": 9,
   "id": "e556e835",
   "metadata": {
    "execution": {
     "iopub.execute_input": "2023-11-19T22:33:40.024687Z",
     "iopub.status.busy": "2023-11-19T22:33:40.024268Z",
     "iopub.status.idle": "2023-11-19T22:33:40.032260Z",
     "shell.execute_reply": "2023-11-19T22:33:40.031247Z"
    },
    "papermill": {
     "duration": 0.019196,
     "end_time": "2023-11-19T22:33:40.034521",
     "exception": false,
     "start_time": "2023-11-19T22:33:40.015325",
     "status": "completed"
    },
    "tags": []
   },
   "outputs": [],
   "source": [
    "train = train.dropna(subset=['Age'])"
   ]
  },
  {
   "cell_type": "code",
   "execution_count": 10,
   "id": "c4284637",
   "metadata": {
    "execution": {
     "iopub.execute_input": "2023-11-19T22:33:40.053326Z",
     "iopub.status.busy": "2023-11-19T22:33:40.052227Z",
     "iopub.status.idle": "2023-11-19T22:33:40.061452Z",
     "shell.execute_reply": "2023-11-19T22:33:40.060765Z"
    },
    "papermill": {
     "duration": 0.021413,
     "end_time": "2023-11-19T22:33:40.063492",
     "exception": false,
     "start_time": "2023-11-19T22:33:40.042079",
     "status": "completed"
    },
    "tags": []
   },
   "outputs": [
    {
     "data": {
      "text/plain": [
       "PassengerId     0\n",
       "Pclass          0\n",
       "Age            86\n",
       "SibSp           0\n",
       "Parch           0\n",
       "Fare            1\n",
       "dtype: int64"
      ]
     },
     "execution_count": 10,
     "metadata": {},
     "output_type": "execute_result"
    }
   ],
   "source": [
    "test[features].isnull().sum()"
   ]
  },
  {
   "cell_type": "code",
   "execution_count": 11,
   "id": "2ab1174d",
   "metadata": {
    "execution": {
     "iopub.execute_input": "2023-11-19T22:33:40.080839Z",
     "iopub.status.busy": "2023-11-19T22:33:40.080170Z",
     "iopub.status.idle": "2023-11-19T22:33:40.089121Z",
     "shell.execute_reply": "2023-11-19T22:33:40.088125Z"
    },
    "papermill": {
     "duration": 0.02031,
     "end_time": "2023-11-19T22:33:40.091540",
     "exception": false,
     "start_time": "2023-11-19T22:33:40.071230",
     "status": "completed"
    },
    "tags": []
   },
   "outputs": [],
   "source": [
    "test = test.dropna(subset=['Age'])\n",
    "test = test.dropna(subset=['Fare'])"
   ]
  },
  {
   "cell_type": "code",
   "execution_count": 12,
   "id": "18a936cd",
   "metadata": {
    "_cell_guid": "d7f14abb-316d-4821-b07b-2eb5c565fea4",
    "_uuid": "6be0e872-6f14-401c-8602-1d1b546eb275",
    "collapsed": false,
    "execution": {
     "iopub.execute_input": "2023-11-19T22:33:40.108477Z",
     "iopub.status.busy": "2023-11-19T22:33:40.108024Z",
     "iopub.status.idle": "2023-11-19T22:33:40.116332Z",
     "shell.execute_reply": "2023-11-19T22:33:40.115415Z"
    },
    "jupyter": {
     "outputs_hidden": false
    },
    "papermill": {
     "duration": 0.01929,
     "end_time": "2023-11-19T22:33:40.118461",
     "exception": false,
     "start_time": "2023-11-19T22:33:40.099171",
     "status": "completed"
    },
    "tags": []
   },
   "outputs": [],
   "source": [
    "X_train = train[features]\n",
    "X_test = test[features]\n",
    "y_train = train[\"Survived\"]"
   ]
  },
  {
   "cell_type": "code",
   "execution_count": 13,
   "id": "659b11ea",
   "metadata": {
    "execution": {
     "iopub.execute_input": "2023-11-19T22:33:40.134965Z",
     "iopub.status.busy": "2023-11-19T22:33:40.134543Z",
     "iopub.status.idle": "2023-11-19T22:33:40.141162Z",
     "shell.execute_reply": "2023-11-19T22:33:40.140248Z"
    },
    "papermill": {
     "duration": 0.017038,
     "end_time": "2023-11-19T22:33:40.143176",
     "exception": false,
     "start_time": "2023-11-19T22:33:40.126138",
     "status": "completed"
    },
    "tags": []
   },
   "outputs": [
    {
     "data": {
      "text/plain": [
       "Index(['PassengerId', 'Pclass', 'Age', 'SibSp', 'Parch', 'Fare'], dtype='object')"
      ]
     },
     "execution_count": 13,
     "metadata": {},
     "output_type": "execute_result"
    }
   ],
   "source": [
    "X_test.columns"
   ]
  },
  {
   "cell_type": "code",
   "execution_count": 14,
   "id": "aaca5b6f",
   "metadata": {
    "execution": {
     "iopub.execute_input": "2023-11-19T22:33:40.160934Z",
     "iopub.status.busy": "2023-11-19T22:33:40.160317Z",
     "iopub.status.idle": "2023-11-19T22:33:40.449814Z",
     "shell.execute_reply": "2023-11-19T22:33:40.448883Z"
    },
    "papermill": {
     "duration": 0.300954,
     "end_time": "2023-11-19T22:33:40.452242",
     "exception": false,
     "start_time": "2023-11-19T22:33:40.151288",
     "status": "completed"
    },
    "tags": []
   },
   "outputs": [
    {
     "data": {
      "text/plain": [
       "RandomForestRegressor(random_state=1)"
      ]
     },
     "execution_count": 14,
     "metadata": {},
     "output_type": "execute_result"
    }
   ],
   "source": [
    "model = RandomForestRegressor(random_state=1)\n",
    "model.fit(X_train, y_train)"
   ]
  },
  {
   "cell_type": "code",
   "execution_count": 15,
   "id": "84de1f56",
   "metadata": {
    "execution": {
     "iopub.execute_input": "2023-11-19T22:33:40.469632Z",
     "iopub.status.busy": "2023-11-19T22:33:40.469212Z",
     "iopub.status.idle": "2023-11-19T22:33:41.591020Z",
     "shell.execute_reply": "2023-11-19T22:33:41.589628Z"
    },
    "papermill": {
     "duration": 1.134278,
     "end_time": "2023-11-19T22:33:41.594359",
     "exception": false,
     "start_time": "2023-11-19T22:33:40.460081",
     "status": "completed"
    },
    "tags": []
   },
   "outputs": [
    {
     "name": "stdout",
     "output_type": "stream",
     "text": [
      "Submission exported to /kaggle/working/submission.csv\n",
      "PassengerId,Survived\r\n",
      "892,0\r\n",
      "893,0\r\n",
      "894,0\r\n",
      "895,0\r\n",
      "896,0\r\n",
      "897,0\r\n",
      "898,0\r\n",
      "899,0\r\n",
      "900,0\r\n"
     ]
    }
   ],
   "source": [
    "def prediction_to_kaggle_format(model):\n",
    "    proba_survive = model.predict(X_test)\n",
    "    return pd.DataFrame({\n",
    "        \"PassengerId\": X_test[\"PassengerId\"],\n",
    "        \"Survived\": (proba_survive).astype(int)\n",
    "    })\n",
    "\n",
    "def make_submission(kaggle_predictions):\n",
    "    path=\"/kaggle/working/submission.csv\"\n",
    "    kaggle_predictions.to_csv(path, index=False)\n",
    "    print(f\"Submission exported to {path}\")\n",
    "    \n",
    "kaggle_predictions = prediction_to_kaggle_format(model)\n",
    "make_submission(kaggle_predictions)\n",
    "!head /kaggle/working/submission.csv"
   ]
  },
  {
   "cell_type": "markdown",
   "id": "b66588a4",
   "metadata": {
    "_cell_guid": "67520e6b-2aba-4a84-a245-c81d68321eda",
    "_uuid": "82151300-6ca9-4d5c-8e67-7bd8b4e41e82",
    "papermill": {
     "duration": 0.007973,
     "end_time": "2023-11-19T22:33:41.610848",
     "exception": false,
     "start_time": "2023-11-19T22:33:41.602875",
     "status": "completed"
    },
    "tags": []
   },
   "source": []
  }
 ],
 "metadata": {
  "kaggle": {
   "accelerator": "none",
   "dataSources": [
    {
     "databundleVersionId": 26502,
     "sourceId": 3136,
     "sourceType": "competition"
    }
   ],
   "dockerImageVersionId": 30197,
   "isGpuEnabled": false,
   "isInternetEnabled": true,
   "language": "python",
   "sourceType": "notebook"
  },
  "kernelspec": {
   "display_name": "Python 3",
   "language": "python",
   "name": "python3"
  },
  "language_info": {
   "codemirror_mode": {
    "name": "ipython",
    "version": 3
   },
   "file_extension": ".py",
   "mimetype": "text/x-python",
   "name": "python",
   "nbconvert_exporter": "python",
   "pygments_lexer": "ipython3",
   "version": "3.7.12"
  },
  "papermill": {
   "default_parameters": {},
   "duration": 15.191702,
   "end_time": "2023-11-19T22:33:42.441439",
   "environment_variables": {},
   "exception": null,
   "input_path": "__notebook__.ipynb",
   "output_path": "__notebook__.ipynb",
   "parameters": {},
   "start_time": "2023-11-19T22:33:27.249737",
   "version": "2.3.4"
  }
 },
 "nbformat": 4,
 "nbformat_minor": 5
}
